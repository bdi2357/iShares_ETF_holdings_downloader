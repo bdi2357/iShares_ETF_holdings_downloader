{
  "cells": [
    {
      "cell_type": "markdown",
      "metadata": {
        "id": "view-in-github",
        "colab_type": "text"
      },
      "source": [
        "<a href=\"https://colab.research.google.com/github/bdi2357/iShares_ETF_holdings_downloader/blob/main/ishares_holdings_downloader2.ipynb\" target=\"_parent\"><img src=\"https://colab.research.google.com/assets/colab-badge.svg\" alt=\"Open In Colab\"/></a>"
      ]
    },
    {
      "cell_type": "code",
      "execution_count": null,
      "metadata": {
        "id": "ANuCoVtDnAIo"
      },
      "outputs": [],
      "source": [
        "import pandas as pd\n",
        "import numpy as np\n",
        "import os,sys,re\n",
        "import requests\n",
        "import urllib"
      ]
    },
    {
      "cell_type": "code",
      "execution_count": null,
      "metadata": {
        "id": "yaU6ZB78nAIu"
      },
      "outputs": [],
      "source": [
        "etfs_ishares = pd.read_html(\"https://www.ishares.com/us/products/etf-investments#/?productView=etf&pageNumber=1&sortColumn=totalNetAssets&sortDirection=desc&dataView=keyFacts&showAll=true\")"
      ]
    },
    {
      "cell_type": "code",
      "execution_count": null,
      "metadata": {
        "id": "eG2gYkKgnAIv",
        "outputId": "76ab22fb-ebd9-4272-bfc6-52d987376cb3"
      },
      "outputs": [
        {
          "data": {
            "text/plain": [
              "(393, 10)"
            ]
          },
          "execution_count": 3,
          "metadata": {},
          "output_type": "execute_result"
        }
      ],
      "source": [
        "etfs_ishares[0].shape"
      ]
    },
    {
      "cell_type": "code",
      "execution_count": null,
      "metadata": {
        "id": "83RUabHPnAIw",
        "outputId": "102f7f17-6d05-4c86-e010-e335b5beb290"
      },
      "outputs": [
        {
          "data": {
            "text/html": [
              "<div>\n",
              "<style scoped>\n",
              "    .dataframe tbody tr th:only-of-type {\n",
              "        vertical-align: middle;\n",
              "    }\n",
              "\n",
              "    .dataframe tbody tr th {\n",
              "        vertical-align: top;\n",
              "    }\n",
              "\n",
              "    .dataframe thead th {\n",
              "        text-align: right;\n",
              "    }\n",
              "</style>\n",
              "<table border=\"1\" class=\"dataframe\">\n",
              "  <thead>\n",
              "    <tr style=\"text-align: right;\">\n",
              "      <th></th>\n",
              "      <th>Ticker</th>\n",
              "      <th>Name</th>\n",
              "      <th>12m Trailing Yield (%)</th>\n",
              "      <th>As of</th>\n",
              "      <th>YTD Return (%)</th>\n",
              "      <th>As of.1</th>\n",
              "      <th>Incept. Date</th>\n",
              "      <th>Gross Expense Ratio (%)</th>\n",
              "      <th>Net Expense Ratio (%)</th>\n",
              "      <th>Net Assets (USD)</th>\n",
              "    </tr>\n",
              "  </thead>\n",
              "  <tbody>\n",
              "    <tr>\n",
              "      <th>0</th>\n",
              "      <td>IGLB</td>\n",
              "      <td>iShares 10+ Year Investment Grade Corporate Bo...</td>\n",
              "      <td>4.18</td>\n",
              "      <td>Aug 30, 2022</td>\n",
              "      <td>-22.24</td>\n",
              "      <td>Aug 30, 2022</td>\n",
              "      <td>Dec 08, 2009</td>\n",
              "      <td>0.06</td>\n",
              "      <td>0.06</td>\n",
              "      <td>1385865695</td>\n",
              "    </tr>\n",
              "    <tr>\n",
              "      <th>1</th>\n",
              "      <td>ILTB</td>\n",
              "      <td>iShares Core 10+ Year USD Bond ETF</td>\n",
              "      <td>3.99</td>\n",
              "      <td>Aug 30, 2022</td>\n",
              "      <td>-22.37</td>\n",
              "      <td>Aug 30, 2022</td>\n",
              "      <td>Dec 08, 2009</td>\n",
              "      <td>0.06</td>\n",
              "      <td>0.06</td>\n",
              "      <td>304482155</td>\n",
              "    </tr>\n",
              "    <tr>\n",
              "      <th>2</th>\n",
              "      <td>QLTA</td>\n",
              "      <td>iShares Aaa - A Rated Corporate Bond ETF</td>\n",
              "      <td>2.41</td>\n",
              "      <td>Aug 30, 2022</td>\n",
              "      <td>-13.18</td>\n",
              "      <td>Aug 30, 2022</td>\n",
              "      <td>Feb 14, 2012</td>\n",
              "      <td>0.15</td>\n",
              "      <td>0.15</td>\n",
              "      <td>1011262904</td>\n",
              "    </tr>\n",
              "    <tr>\n",
              "      <th>3</th>\n",
              "      <td>DVYA</td>\n",
              "      <td>iShares Asia/Pacific Dividend ETF</td>\n",
              "      <td>7.30</td>\n",
              "      <td>Jul 31, 2022</td>\n",
              "      <td>-6.16</td>\n",
              "      <td>Jul 31, 2022</td>\n",
              "      <td>Feb 23, 2012</td>\n",
              "      <td>0.49</td>\n",
              "      <td>0.49</td>\n",
              "      <td>33611015</td>\n",
              "    </tr>\n",
              "    <tr>\n",
              "      <th>4</th>\n",
              "      <td>STIP</td>\n",
              "      <td>iShares 0-5 Year TIPS Bond ETF</td>\n",
              "      <td>6.10</td>\n",
              "      <td>Aug 30, 2022</td>\n",
              "      <td>-1.14</td>\n",
              "      <td>Aug 30, 2022</td>\n",
              "      <td>Dec 01, 2010</td>\n",
              "      <td>0.03</td>\n",
              "      <td>0.03</td>\n",
              "      <td>12673720770</td>\n",
              "    </tr>\n",
              "  </tbody>\n",
              "</table>\n",
              "</div>"
            ],
            "text/plain": [
              "  Ticker                                               Name  \\\n",
              "0   IGLB  iShares 10+ Year Investment Grade Corporate Bo...   \n",
              "1   ILTB                 iShares Core 10+ Year USD Bond ETF   \n",
              "2   QLTA           iShares Aaa - A Rated Corporate Bond ETF   \n",
              "3   DVYA                  iShares Asia/Pacific Dividend ETF   \n",
              "4   STIP                     iShares 0-5 Year TIPS Bond ETF   \n",
              "\n",
              "  12m Trailing Yield (%)         As of YTD Return (%)       As of.1  \\\n",
              "0                   4.18  Aug 30, 2022         -22.24  Aug 30, 2022   \n",
              "1                   3.99  Aug 30, 2022         -22.37  Aug 30, 2022   \n",
              "2                   2.41  Aug 30, 2022         -13.18  Aug 30, 2022   \n",
              "3                   7.30  Jul 31, 2022          -6.16  Jul 31, 2022   \n",
              "4                   6.10  Aug 30, 2022          -1.14  Aug 30, 2022   \n",
              "\n",
              "   Incept. Date  Gross Expense Ratio (%)  Net Expense Ratio (%)  \\\n",
              "0  Dec 08, 2009                     0.06                   0.06   \n",
              "1  Dec 08, 2009                     0.06                   0.06   \n",
              "2  Feb 14, 2012                     0.15                   0.15   \n",
              "3  Feb 23, 2012                     0.49                   0.49   \n",
              "4  Dec 01, 2010                     0.03                   0.03   \n",
              "\n",
              "   Net Assets (USD)  \n",
              "0        1385865695  \n",
              "1         304482155  \n",
              "2        1011262904  \n",
              "3          33611015  \n",
              "4       12673720770  "
            ]
          },
          "execution_count": 4,
          "metadata": {},
          "output_type": "execute_result"
        }
      ],
      "source": [
        "etfs_list = etfs_ishares[0]\n",
        "etfs_list.head()"
      ]
    },
    {
      "cell_type": "code",
      "execution_count": null,
      "metadata": {
        "id": "rxiPGZhRnAIx"
      },
      "outputs": [],
      "source": [
        "import dateutil"
      ]
    },
    {
      "cell_type": "code",
      "execution_count": null,
      "metadata": {
        "id": "NJtSNjHvnAIx"
      },
      "outputs": [],
      "source": [
        "from dateutil.parser import parse as parse_dt\n",
        "def parse_dm(x):\n",
        "    if x>9:\n",
        "        return str(x)\n",
        "    else:\n",
        "        return \"0\"+str(x)\n",
        "def date2fmt(dt):\n",
        "    prsd = parse_dt(dt)\n",
        "    return str(prsd.year)+\"-\"+parse_dm(prsd.month)+\"-\"+parse_dm(prsd.day)"
      ]
    },
    {
      "cell_type": "code",
      "execution_count": null,
      "metadata": {
        "id": "h31XR3UbnAIy"
      },
      "outputs": [],
      "source": [
        "etfs_list[\"dt_parsed\"] = etfs_list.apply(lambda r: date2fmt(r[\"Incept. Date\"]),axis=1)"
      ]
    },
    {
      "cell_type": "code",
      "execution_count": null,
      "metadata": {
        "id": "8jQT1wXunAIz"
      },
      "outputs": [],
      "source": [
        "etfs_list = etfs_list.sort_values(by = \"dt_parsed\")"
      ]
    },
    {
      "cell_type": "code",
      "execution_count": null,
      "metadata": {
        "id": "h1UKKJGinAIz"
      },
      "outputs": [],
      "source": [
        "def find_etf_url(ticker,big_s):\n",
        "    return re.findall(\"\\\".*?\\\"\",re.findall(\"<a href=\\\".*?\\\">%s\"%ticker,big_s)[0])[0][1:-1]"
      ]
    },
    {
      "cell_type": "code",
      "execution_count": null,
      "metadata": {
        "id": "aj2nXV_0nAI0"
      },
      "outputs": [],
      "source": [
        "ishares_etf_page = requests.get(\"https://www.ishares.com/us/products/etf-investments#/?productView=etf&pageNumber=1&sortColumn=totalNetAssets&sortDirection=desc&dataView=keyFacts&showAll=true\")"
      ]
    },
    {
      "cell_type": "code",
      "execution_count": null,
      "metadata": {
        "id": "aW7LOfRgnAI1"
      },
      "outputs": [],
      "source": [
        "ishares_urls = ishares_etf_page.text"
      ]
    },
    {
      "cell_type": "code",
      "execution_count": null,
      "metadata": {
        "id": "GXPHa0TnnAI1"
      },
      "outputs": [],
      "source": [
        "def find_etf_url(ticker,big_s):\n",
        "    return re.findall(\"\\\".*?\\\"\",re.findall(\"<a href=\\\".*?\\\">%s\"%ticker,big_s)[0])[0][1:-1]"
      ]
    },
    {
      "cell_type": "code",
      "execution_count": null,
      "metadata": {
        "id": "K2ybAN8DnAI2"
      },
      "outputs": [],
      "source": [
        "etfs_list[\"url_add\"] = etfs_list.apply(lambda r: find_etf_url(r[\"Ticker\"],ishares_urls),axis=1)"
      ]
    },
    {
      "cell_type": "code",
      "execution_count": null,
      "metadata": {
        "id": "wruDcWvpnAI3"
      },
      "outputs": [],
      "source": [
        "USER_AGENT_LIST = [\n",
        "        'Mozilla/5.0 (Windows NT 10.0; Win64; x64) AppleWebKit/537.36 (KHTML, like Gecko) Chrome/60.0.3112.113 Safari/537.36',\n",
        "        'Mozilla/5.0 (Windows NT 6.1; Win64; x64) AppleWebKit/537.36 (KHTML, like Gecko) Chrome/60.0.3112.90 Safari/537.36',\n",
        "        'Mozilla/5.0 (Windows NT 5.1; Win64; x64) AppleWebKit/537.36 (KHTML, like Gecko) Chrome/60.0.3112.90 Safari/537.36',\n",
        "        'Mozilla/5.0 (Windows NT 6.2; Win64; x64) AppleWebKit/537.36 (KHTML, like Gecko) Chrome/60.0.3112.90 Safari/537.36',\n",
        "        'Mozilla/5.0 (X11; Linux x86_64) AppleWebKit/537.36 (KHTML, like Gecko) Chrome/44.0.2403.157 Safari/537.36',\n",
        "        'Mozilla/5.0 (Windows NT 6.3; Win64; x64) AppleWebKit/537.36 (KHTML, like Gecko) Chrome/60.0.3112.113 Safari/537.36',\n",
        "        'Mozilla/5.0 (Windows NT 10.0; Win64; x64) AppleWebKit/537.36 (KHTML, like Gecko) Chrome/57.0.2987.133 Safari/537.36',\n",
        "        'Mozilla/5.0 (Windows NT 6.1; Win64; x64) AppleWebKit/537.36 (KHTML, like Gecko) Chrome/57.0.2987.133 Safari/537.36',\n",
        "        'Mozilla/5.0 (Windows NT 10.0; Win64; x64) AppleWebKit/537.36 (KHTML, like Gecko) Chrome/55.0.2883.87 Safari/537.36',\n",
        "        'Mozilla/5.0 (Windows NT 6.1; Win64; x64) AppleWebKit/537.36 (KHTML, like Gecko) Chrome/55.0.2883.87 Safari/537.36',\n",
        "        'Mozilla/4.0 (compatible; MSIE 9.0; Windows NT 6.1)',\n",
        "        'Mozilla/5.0 (Windows NT 6.1; WOW64; Trident/7.0; rv:11.0) like Gecko',\n",
        "        'Mozilla/5.0 (compatible; MSIE 9.0; Windows NT 6.1; WOW64; Trident/5.0)',\n",
        "        'Mozilla/5.0 (Windows NT 6.1; Trident/7.0; rv:11.0) like Gecko',\n",
        "        'Mozilla/5.0 (Windows NT 6.2; WOW64; Trident/7.0; rv:11.0) like Gecko',\n",
        "        'Mozilla/5.0 (Windows NT 10.0; WOW64; Trident/7.0; rv:11.0) like Gecko',\n",
        "        'Mozilla/5.0 (compatible; MSIE 9.0; Windows NT 6.0; Trident/5.0)',\n",
        "        'Mozilla/5.0 (Windows NT 6.3; WOW64; Trident/7.0; rv:11.0) like Gecko',\n",
        "        'Mozilla/5.0 (compatible; MSIE 9.0; Windows NT 6.1; Trident/5.0)',\n",
        "        'Mozilla/5.0 (Windows NT 6.1; Win64; x64; Trident/7.0; rv:11.0) like Gecko',\n",
        "        'Mozilla/5.0 (compatible; MSIE 10.0; Windows NT 6.1; WOW64; Trident/6.0)',\n",
        "        'Mozilla/5.0 (compatible; MSIE 10.0; Windows NT 6.1; Trident/6.0)',\n",
        "        'Mozilla/4.0 (compatible; MSIE 8.0; Windows NT 5.1; Trident/4.0; .NET CLR 2.0.50727; .NET CLR 3.0.4506.2152; .NET CLR 3.5.30729)'\n",
        "    ]"
      ]
    },
    {
      "cell_type": "code",
      "execution_count": null,
      "metadata": {
        "id": "zn-RtMG4nAI4"
      },
      "outputs": [],
      "source": [
        "def response2df(txt):\n",
        "    L = txt[txt.find(\"Ticker\"):].split(\"\\n\")\n",
        "    columns=L[0].split(\",\")\n",
        "    #print(L[:3])\n",
        "    data = [[x[1:-1] for x in re.findall(\"\\\".*?\\\"\",row)] for row in L[1:]]\n",
        "    #print(\"H1\")\n",
        "    df = pd.DataFrame(data=data,columns = columns)\n",
        "    #print(\"H2\")\n",
        "    df = df[df.apply(lambda r: isinstance(r[\"Ticker\"],str) and re.findall(\"[A-Z0-9]*\",r[\"Ticker\"])[0] == r[\"Ticker\"],axis=1)]\n",
        "    #print(\"H3\")\n",
        "    return df"
      ]
    },
    {
      "cell_type": "code",
      "execution_count": null,
      "metadata": {
        "id": "qfh59qiCnAI5"
      },
      "outputs": [],
      "source": [
        "import random\n",
        "def etf_holdings2(ticker,date,out_dir):\n",
        "    url_base = \"https://www.ishares.com%s/1467271812596.ajax?fileType=csv&fileName=%s_holdings&dataType=fund&asOfDate=%s\"\n",
        "    product_url = etfs_list.loc[etfs_list['Ticker'] == ticker, \"url_add\"].iloc[0] #etfs_list[\"url_add\"]\n",
        "    url = url_base%(product_url,ticker,date)\n",
        "    \n",
        "    \n",
        "    headers = random.choice(USER_AGENT_LIST)\n",
        "    opener = urllib.request.build_opener()\n",
        "    opener.addheaders = [(\"User-Agent\",headers)]\n",
        "    urllib.request.install_opener(opener)\n",
        "    #req = requests.get(url, headers=headers)\n",
        "    tar_file = os.path.join(out_dir,'%s_holdings_%s.csv'%(ticker,date))\n",
        "    return urllib.request.urlretrieve(url,tar_file ),tar_file\n"
      ]
    },
    {
      "cell_type": "code",
      "execution_count": null,
      "metadata": {
        "id": "Hh4bxxKnnAI5",
        "outputId": "8378c277-afdb-44ad-febd-6535dfe98a83"
      },
      "outputs": [
        {
          "data": {
            "text/plain": [
              "'\\nThe rebalancing reference date is the second Friday of March, June, September, \\nand December.\\n'"
            ]
          },
          "execution_count": 17,
          "metadata": {},
          "output_type": "execute_result"
        }
      ],
      "source": [
        "\"\"\"\n",
        "The rebalancing reference date is the second Friday of March, June, September, \n",
        "and December.\n",
        "\"\"\""
      ]
    },
    {
      "cell_type": "code",
      "execution_count": null,
      "metadata": {
        "id": "INIak9fNnAI6",
        "outputId": "33b32a12-c5bf-4293-ff9b-e3bd04127bc7"
      },
      "outputs": [
        {
          "name": "stdout",
          "output_type": "stream",
          "text": [
            "31\n",
            "30\n",
            "30\n",
            "30\n"
          ]
        },
        {
          "data": {
            "text/plain": [
              "27"
            ]
          },
          "execution_count": 18,
          "metadata": {},
          "output_type": "execute_result"
        }
      ],
      "source": [
        "import calendar\n",
        "import pandas_market_calendars as mcal\n",
        "def last_business_day_in_month(year: int, month: int) -> int:\n",
        "    return max(calendar.monthcalendar(year, month)[-1:][0][:5])\n",
        "\n",
        "for year in range(2011,2012):\n",
        "    for month in [3,6,9,12]:\n",
        "        print(last_business_day_in_month(year,month))\n",
        "\n",
        "def mnth(m):\n",
        "    if m<10:\n",
        "        return '0'+str(m)\n",
        "    else:\n",
        "        return str(m)\n",
        "def first_trading_day_after_21_in_month(year: int, month: int, frm = 22) -> int:\n",
        "    nyse = mcal.get_calendar('NYSE')\n",
        "    start_date = '%s-%s-%s'%(str(year),mnth(month),str(frm))\n",
        "    end_date = '%s-%s-29'%(str(year),mnth(month))\n",
        "    \n",
        "    #print(nyse.valid_days(start_date = start_date, end_date = end_date)[-1])\n",
        "    return nyse.valid_days(start_date = start_date, end_date = end_date)[-1].date().day\n",
        "    \n",
        "first_trading_day_after_21_in_month(2012,4)   "
      ]
    },
    {
      "cell_type": "code",
      "execution_count": null,
      "metadata": {
        "id": "3_depfgxnAI6"
      },
      "outputs": [],
      "source": [
        "import time\n",
        "from datetime import datetime as dttm\n",
        "ticker = \"IWM\"\n",
        "home_dir = \".\"\n",
        "def mnth(m):\n",
        "    if m<10:\n",
        "        return '0'+str(m)\n",
        "    else:\n",
        "        return str(m)\n",
        "def download_holdings_from_2011(ticker,home_dir):\n",
        "    tar_dir = os.path.join(home_dir,ticker)\n",
        "    if not os.path.isdir(tar_dir):\n",
        "        os.mkdir(tar_dir)\n",
        "    cur_year = dttm.now().year\n",
        "    cur_month = dttm.now().month\n",
        "    inception_dt = etfs_list.loc[etfs_list['Ticker'] == ticker, \"dt_parsed\"].iloc[0]\n",
        "    \n",
        "    start_year =  max(2011,int(inception_dt.split(\"-\")[0]))\n",
        "    for year in range(start_year,cur_year+1):\n",
        "        for month in [3,6,9,12]:\n",
        "            time.sleep(2)\n",
        "            #print(year,month)\n",
        "            day = last_business_day_in_month(year,month)#first_trading_day_after_21_in_month(year,month)\n",
        "            dt = str(year)+mnth(month)+str(day)\n",
        "            if (year < cur_year or month < cur_month) and not (year == start_year and month <= int(inception_dt.split(\"-\")[1])):\n",
        "                f_path = etf_holdings2(ticker,dt,tar_dir)[1]\n",
        "                flg = True\n",
        "                frm = 22\n",
        "                while frm < 28 and test_is_valid_holding_file(f_path) != \"Success\":\n",
        "                    os.system(\"rm %s\"%f_path)\n",
        "                    \n",
        "                    day = first_trading_day_after_21_in_month(year,month)\n",
        "                    dt = str(year)+mnth(month)+str(day)\n",
        "                    frm+=1\n",
        "\n",
        "                    \n",
        "                \n",
        "        "
      ]
    },
    {
      "cell_type": "code",
      "execution_count": null,
      "metadata": {
        "id": "k2XBn8qrnAI7"
      },
      "outputs": [],
      "source": [
        "from pathlib import Path\n",
        "home = str(Path.home())\n",
        "tar_path = os.path.join(home,\"iSharesHoldings\")\n",
        "if not os.path.isdir(tar_path):\n",
        "    os.mkdir(tar_path)"
      ]
    },
    {
      "cell_type": "code",
      "execution_count": null,
      "metadata": {
        "id": "bD4UK9nmnAI7"
      },
      "outputs": [],
      "source": [
        "etfs_list[\"Net Assets (USD)\"] = etfs_list[\"Net Assets (USD)\"].astype(float)"
      ]
    },
    {
      "cell_type": "code",
      "execution_count": null,
      "metadata": {
        "id": "xF_U3dbBnAI8",
        "outputId": "df2149b3-5fa9-4280-aed5-fbeb0f13f3c1"
      },
      "outputs": [
        {
          "data": {
            "text/html": [
              "<div>\n",
              "<style scoped>\n",
              "    .dataframe tbody tr th:only-of-type {\n",
              "        vertical-align: middle;\n",
              "    }\n",
              "\n",
              "    .dataframe tbody tr th {\n",
              "        vertical-align: top;\n",
              "    }\n",
              "\n",
              "    .dataframe thead th {\n",
              "        text-align: right;\n",
              "    }\n",
              "</style>\n",
              "<table border=\"1\" class=\"dataframe\">\n",
              "  <thead>\n",
              "    <tr style=\"text-align: right;\">\n",
              "      <th></th>\n",
              "      <th>Ticker</th>\n",
              "      <th>Name</th>\n",
              "      <th>12m Trailing Yield (%)</th>\n",
              "      <th>As of</th>\n",
              "      <th>YTD Return (%)</th>\n",
              "      <th>As of.1</th>\n",
              "      <th>Incept. Date</th>\n",
              "      <th>Gross Expense Ratio (%)</th>\n",
              "      <th>Net Expense Ratio (%)</th>\n",
              "      <th>Net Assets (USD)</th>\n",
              "      <th>dt_parsed</th>\n",
              "      <th>url_add</th>\n",
              "    </tr>\n",
              "  </thead>\n",
              "  <tbody>\n",
              "    <tr>\n",
              "      <th>171</th>\n",
              "      <td>IVV</td>\n",
              "      <td>iShares Core S&amp;P 500 ETF</td>\n",
              "      <td>1.44</td>\n",
              "      <td>Jul 31, 2022</td>\n",
              "      <td>-16.16</td>\n",
              "      <td>Jul 31, 2022</td>\n",
              "      <td>May 15, 2000</td>\n",
              "      <td>0.03</td>\n",
              "      <td>0.03</td>\n",
              "      <td>2.959908e+11</td>\n",
              "      <td>2000-05-15</td>\n",
              "      <td>/us/products/239726/ishares-core-sp-500-etf</td>\n",
              "    </tr>\n",
              "    <tr>\n",
              "      <th>219</th>\n",
              "      <td>IEFA</td>\n",
              "      <td>iShares Core MSCI EAFE ETF</td>\n",
              "      <td>4.39</td>\n",
              "      <td>Jul 31, 2022</td>\n",
              "      <td>-20.37</td>\n",
              "      <td>Jul 31, 2022</td>\n",
              "      <td>Oct 18, 2012</td>\n",
              "      <td>0.07</td>\n",
              "      <td>0.07</td>\n",
              "      <td>8.363668e+10</td>\n",
              "      <td>2012-10-18</td>\n",
              "      <td>/us/products/244049/ishares-core-msci-eafe-etf</td>\n",
              "    </tr>\n",
              "    <tr>\n",
              "      <th>12</th>\n",
              "      <td>AGG</td>\n",
              "      <td>iShares Core U.S. Aggregate Bond ETF</td>\n",
              "      <td>2.02</td>\n",
              "      <td>Aug 30, 2022</td>\n",
              "      <td>-10.65</td>\n",
              "      <td>Aug 30, 2022</td>\n",
              "      <td>Sep 22, 2003</td>\n",
              "      <td>0.04</td>\n",
              "      <td>0.03</td>\n",
              "      <td>8.222734e+10</td>\n",
              "      <td>2003-09-22</td>\n",
              "      <td>/us/products/239458/ishares-core-total-us-bond...</td>\n",
              "    </tr>\n",
              "    <tr>\n",
              "      <th>210</th>\n",
              "      <td>IJR</td>\n",
              "      <td>iShares Core S&amp;P Small-Cap ETF</td>\n",
              "      <td>1.68</td>\n",
              "      <td>Jul 31, 2022</td>\n",
              "      <td>-14.79</td>\n",
              "      <td>Jul 31, 2022</td>\n",
              "      <td>May 22, 2000</td>\n",
              "      <td>0.06</td>\n",
              "      <td>0.06</td>\n",
              "      <td>6.572527e+10</td>\n",
              "      <td>2000-05-22</td>\n",
              "      <td>/us/products/239774/ishares-core-sp-smallcap-etf</td>\n",
              "    </tr>\n",
              "    <tr>\n",
              "      <th>220</th>\n",
              "      <td>IEMG</td>\n",
              "      <td>iShares Core MSCI Emerging Markets ETF</td>\n",
              "      <td>4.02</td>\n",
              "      <td>Jul 31, 2022</td>\n",
              "      <td>-17.67</td>\n",
              "      <td>Jul 31, 2022</td>\n",
              "      <td>Oct 18, 2012</td>\n",
              "      <td>0.09</td>\n",
              "      <td>0.09</td>\n",
              "      <td>6.522709e+10</td>\n",
              "      <td>2012-10-18</td>\n",
              "      <td>/us/products/244050/ishares-core-msci-emerging...</td>\n",
              "    </tr>\n",
              "    <tr>\n",
              "      <th>152</th>\n",
              "      <td>IWF</td>\n",
              "      <td>iShares Russell 1000 Growth ETF</td>\n",
              "      <td>0.67</td>\n",
              "      <td>Jul 31, 2022</td>\n",
              "      <td>-23.28</td>\n",
              "      <td>Jul 31, 2022</td>\n",
              "      <td>May 22, 2000</td>\n",
              "      <td>0.18</td>\n",
              "      <td>0.18</td>\n",
              "      <td>6.121817e+10</td>\n",
              "      <td>2000-05-22</td>\n",
              "      <td>/us/products/239706/ishares-russell-1000-growt...</td>\n",
              "    </tr>\n",
              "    <tr>\n",
              "      <th>199</th>\n",
              "      <td>IJH</td>\n",
              "      <td>iShares Core S&amp;P Mid-Cap ETF</td>\n",
              "      <td>1.43</td>\n",
              "      <td>Jul 31, 2022</td>\n",
              "      <td>-13.59</td>\n",
              "      <td>Jul 31, 2022</td>\n",
              "      <td>May 22, 2000</td>\n",
              "      <td>0.05</td>\n",
              "      <td>0.05</td>\n",
              "      <td>6.099626e+10</td>\n",
              "      <td>2000-05-22</td>\n",
              "      <td>/us/products/239763/ishares-core-sp-midcap-etf</td>\n",
              "    </tr>\n",
              "    <tr>\n",
              "      <th>156</th>\n",
              "      <td>IWM</td>\n",
              "      <td>iShares Russell 2000 ETF</td>\n",
              "      <td>1.20</td>\n",
              "      <td>Jul 31, 2022</td>\n",
              "      <td>-17.20</td>\n",
              "      <td>Jul 31, 2022</td>\n",
              "      <td>May 22, 2000</td>\n",
              "      <td>0.19</td>\n",
              "      <td>0.19</td>\n",
              "      <td>5.255350e+10</td>\n",
              "      <td>2000-05-22</td>\n",
              "      <td>/us/products/239710/ishares-russell-2000-etf</td>\n",
              "    </tr>\n",
              "    <tr>\n",
              "      <th>154</th>\n",
              "      <td>IWD</td>\n",
              "      <td>iShares Russell 1000 Value ETF</td>\n",
              "      <td>1.86</td>\n",
              "      <td>Jul 31, 2022</td>\n",
              "      <td>-9.97</td>\n",
              "      <td>Jul 31, 2022</td>\n",
              "      <td>May 22, 2000</td>\n",
              "      <td>0.18</td>\n",
              "      <td>0.18</td>\n",
              "      <td>5.150558e+10</td>\n",
              "      <td>2000-05-22</td>\n",
              "      <td>/us/products/239708/ishares-russell-1000-value...</td>\n",
              "    </tr>\n",
              "    <tr>\n",
              "      <th>95</th>\n",
              "      <td>EFA</td>\n",
              "      <td>iShares MSCI EAFE ETF</td>\n",
              "      <td>4.59</td>\n",
              "      <td>Jul 31, 2022</td>\n",
              "      <td>-19.91</td>\n",
              "      <td>Jul 31, 2022</td>\n",
              "      <td>Aug 14, 2001</td>\n",
              "      <td>0.32</td>\n",
              "      <td>0.32</td>\n",
              "      <td>4.379824e+10</td>\n",
              "      <td>2001-08-14</td>\n",
              "      <td>/us/products/239623/ishares-msci-eafe-etf</td>\n",
              "    </tr>\n",
              "    <tr>\n",
              "      <th>169</th>\n",
              "      <td>ITOT</td>\n",
              "      <td>iShares Core S&amp;P Total U.S. Stock Market ETF</td>\n",
              "      <td>1.45</td>\n",
              "      <td>Jul 31, 2022</td>\n",
              "      <td>-17.17</td>\n",
              "      <td>Jul 31, 2022</td>\n",
              "      <td>Jan 20, 2004</td>\n",
              "      <td>0.03</td>\n",
              "      <td>0.03</td>\n",
              "      <td>4.069285e+10</td>\n",
              "      <td>2004-01-20</td>\n",
              "      <td>/us/products/239724/ishares-core-sp-total-us-s...</td>\n",
              "    </tr>\n",
              "    <tr>\n",
              "      <th>66</th>\n",
              "      <td>LQD</td>\n",
              "      <td>iShares iBoxx $ Investment Grade Corporate Bon...</td>\n",
              "      <td>2.81</td>\n",
              "      <td>Aug 30, 2022</td>\n",
              "      <td>-16.12</td>\n",
              "      <td>Aug 30, 2022</td>\n",
              "      <td>Jul 22, 2002</td>\n",
              "      <td>0.14</td>\n",
              "      <td>0.14</td>\n",
              "      <td>3.482849e+10</td>\n",
              "      <td>2002-07-22</td>\n",
              "      <td>/us/products/239566/ishares-iboxx-investment-g...</td>\n",
              "    </tr>\n",
              "    <tr>\n",
              "      <th>170</th>\n",
              "      <td>IVW</td>\n",
              "      <td>iShares S&amp;P 500 Growth ETF</td>\n",
              "      <td>0.64</td>\n",
              "      <td>Jul 31, 2022</td>\n",
              "      <td>-22.78</td>\n",
              "      <td>Jul 31, 2022</td>\n",
              "      <td>May 22, 2000</td>\n",
              "      <td>0.18</td>\n",
              "      <td>0.18</td>\n",
              "      <td>3.007654e+10</td>\n",
              "      <td>2000-05-22</td>\n",
              "      <td>/us/products/239725/ishares-sp-500-growth-etf</td>\n",
              "    </tr>\n",
              "    <tr>\n",
              "      <th>21</th>\n",
              "      <td>TIP</td>\n",
              "      <td>iShares TIPS Bond ETF</td>\n",
              "      <td>6.89</td>\n",
              "      <td>Aug 30, 2022</td>\n",
              "      <td>-7.56</td>\n",
              "      <td>Aug 30, 2022</td>\n",
              "      <td>Dec 04, 2003</td>\n",
              "      <td>0.19</td>\n",
              "      <td>0.19</td>\n",
              "      <td>2.962042e+10</td>\n",
              "      <td>2003-12-04</td>\n",
              "      <td>/us/products/239467/ishares-tips-bond-etf</td>\n",
              "    </tr>\n",
              "    <tr>\n",
              "      <th>148</th>\n",
              "      <td>USMV</td>\n",
              "      <td>iShares MSCI USA Min Vol Factor ETF</td>\n",
              "      <td>1.39</td>\n",
              "      <td>Jul 31, 2022</td>\n",
              "      <td>-11.00</td>\n",
              "      <td>Jul 31, 2022</td>\n",
              "      <td>Oct 18, 2011</td>\n",
              "      <td>0.15</td>\n",
              "      <td>0.15</td>\n",
              "      <td>2.778753e+10</td>\n",
              "      <td>2011-10-18</td>\n",
              "      <td>/us/products/239695/ishares-msci-usa-minimum-v...</td>\n",
              "    </tr>\n",
              "    <tr>\n",
              "      <th>202</th>\n",
              "      <td>MUB</td>\n",
              "      <td>iShares National Muni Bond ETF</td>\n",
              "      <td>1.93</td>\n",
              "      <td>Aug 30, 2022</td>\n",
              "      <td>-7.92</td>\n",
              "      <td>Aug 30, 2022</td>\n",
              "      <td>Sep 07, 2007</td>\n",
              "      <td>0.07</td>\n",
              "      <td>0.07</td>\n",
              "      <td>2.758650e+10</td>\n",
              "      <td>2007-09-07</td>\n",
              "      <td>/us/products/239766/ishares-national-amtfree-m...</td>\n",
              "    </tr>\n",
              "    <tr>\n",
              "      <th>163</th>\n",
              "      <td>IWR</td>\n",
              "      <td>iShares Russell Mid-Cap ETF</td>\n",
              "      <td>1.32</td>\n",
              "      <td>Jul 31, 2022</td>\n",
              "      <td>-16.62</td>\n",
              "      <td>Jul 31, 2022</td>\n",
              "      <td>Jul 17, 2001</td>\n",
              "      <td>0.18</td>\n",
              "      <td>0.18</td>\n",
              "      <td>2.737319e+10</td>\n",
              "      <td>2001-07-17</td>\n",
              "      <td>/us/products/239718/ishares-russell-midcap-etf</td>\n",
              "    </tr>\n",
              "    <tr>\n",
              "      <th>63</th>\n",
              "      <td>IAU</td>\n",
              "      <td>iShares Gold Trust</td>\n",
              "      <td>-</td>\n",
              "      <td>-</td>\n",
              "      <td>-5.88</td>\n",
              "      <td>-</td>\n",
              "      <td>Jan 21, 2005</td>\n",
              "      <td>0.25</td>\n",
              "      <td>0.25</td>\n",
              "      <td>2.735416e+10</td>\n",
              "      <td>2005-01-21</td>\n",
              "      <td>/us/products/239561/ishares-gold-trust-fund</td>\n",
              "    </tr>\n",
              "    <tr>\n",
              "      <th>153</th>\n",
              "      <td>IWB</td>\n",
              "      <td>iShares Russell 1000 ETF</td>\n",
              "      <td>1.33</td>\n",
              "      <td>Jul 31, 2022</td>\n",
              "      <td>-16.98</td>\n",
              "      <td>Jul 31, 2022</td>\n",
              "      <td>May 15, 2000</td>\n",
              "      <td>0.15</td>\n",
              "      <td>0.15</td>\n",
              "      <td>2.722250e+10</td>\n",
              "      <td>2000-05-15</td>\n",
              "      <td>/us/products/239707/ishares-russell-1000-etf</td>\n",
              "    </tr>\n",
              "    <tr>\n",
              "      <th>218</th>\n",
              "      <td>IXUS</td>\n",
              "      <td>iShares Core MSCI Total International Stock ETF</td>\n",
              "      <td>3.91</td>\n",
              "      <td>Jul 31, 2022</td>\n",
              "      <td>-19.03</td>\n",
              "      <td>Jul 31, 2022</td>\n",
              "      <td>Oct 18, 2012</td>\n",
              "      <td>0.07</td>\n",
              "      <td>0.07</td>\n",
              "      <td>2.704331e+10</td>\n",
              "      <td>2012-10-18</td>\n",
              "      <td>/us/products/244048/ishares-core-msci-total-in...</td>\n",
              "    </tr>\n",
              "    <tr>\n",
              "      <th>100</th>\n",
              "      <td>EEM</td>\n",
              "      <td>iShares MSCI Emerging Markets ETF</td>\n",
              "      <td>2.75</td>\n",
              "      <td>Jul 31, 2022</td>\n",
              "      <td>-18.22</td>\n",
              "      <td>Jul 31, 2022</td>\n",
              "      <td>Apr 07, 2003</td>\n",
              "      <td>0.68</td>\n",
              "      <td>0.68</td>\n",
              "      <td>2.587019e+10</td>\n",
              "      <td>2003-04-07</td>\n",
              "      <td>/us/products/239629/ishares-msci-emerging-mark...</td>\n",
              "    </tr>\n",
              "    <tr>\n",
              "      <th>6</th>\n",
              "      <td>SHY</td>\n",
              "      <td>iShares 1-3 Year Treasury Bond ETF</td>\n",
              "      <td>0.52</td>\n",
              "      <td>Aug 30, 2022</td>\n",
              "      <td>-3.39</td>\n",
              "      <td>Aug 30, 2022</td>\n",
              "      <td>Jul 22, 2002</td>\n",
              "      <td>0.15</td>\n",
              "      <td>0.15</td>\n",
              "      <td>2.550799e+10</td>\n",
              "      <td>2002-07-22</td>\n",
              "      <td>/us/products/239452/ishares-13-year-treasury-b...</td>\n",
              "    </tr>\n",
              "    <tr>\n",
              "      <th>8</th>\n",
              "      <td>TLT</td>\n",
              "      <td>iShares 20+ Year Treasury Bond ETF</td>\n",
              "      <td>2.08</td>\n",
              "      <td>Aug 30, 2022</td>\n",
              "      <td>-23.61</td>\n",
              "      <td>Aug 30, 2022</td>\n",
              "      <td>Jul 22, 2002</td>\n",
              "      <td>0.15</td>\n",
              "      <td>0.15</td>\n",
              "      <td>2.540827e+10</td>\n",
              "      <td>2002-07-22</td>\n",
              "      <td>/us/products/239454/ishares-20-year-treasury-b...</td>\n",
              "    </tr>\n",
              "    <tr>\n",
              "      <th>172</th>\n",
              "      <td>IVE</td>\n",
              "      <td>iShares S&amp;P 500 Value ETF</td>\n",
              "      <td>2.00</td>\n",
              "      <td>Jul 31, 2022</td>\n",
              "      <td>-8.97</td>\n",
              "      <td>Jul 31, 2022</td>\n",
              "      <td>May 22, 2000</td>\n",
              "      <td>0.18</td>\n",
              "      <td>0.18</td>\n",
              "      <td>2.390238e+10</td>\n",
              "      <td>2000-05-22</td>\n",
              "      <td>/us/products/239728/ishares-sp-500-value-etf</td>\n",
              "    </tr>\n",
              "    <tr>\n",
              "      <th>243</th>\n",
              "      <td>DGRO</td>\n",
              "      <td>iShares Core Dividend Growth ETF</td>\n",
              "      <td>2.07</td>\n",
              "      <td>Jul 31, 2022</td>\n",
              "      <td>-11.30</td>\n",
              "      <td>Jul 31, 2022</td>\n",
              "      <td>Jun 10, 2014</td>\n",
              "      <td>0.08</td>\n",
              "      <td>0.08</td>\n",
              "      <td>2.308147e+10</td>\n",
              "      <td>2014-06-10</td>\n",
              "      <td>/us/products/264623/ishares-core-dividend-grow...</td>\n",
              "    </tr>\n",
              "    <tr>\n",
              "      <th>10</th>\n",
              "      <td>IEF</td>\n",
              "      <td>iShares 7-10 Year Treasury Bond ETF</td>\n",
              "      <td>1.34</td>\n",
              "      <td>Aug 30, 2022</td>\n",
              "      <td>-11.58</td>\n",
              "      <td>Aug 30, 2022</td>\n",
              "      <td>Jul 22, 2002</td>\n",
              "      <td>0.15</td>\n",
              "      <td>0.15</td>\n",
              "      <td>2.301723e+10</td>\n",
              "      <td>2002-07-22</td>\n",
              "      <td>/us/products/239456/ishares-710-year-treasury-...</td>\n",
              "    </tr>\n",
              "    <tr>\n",
              "      <th>22</th>\n",
              "      <td>GOVT</td>\n",
              "      <td>iShares U.S. Treasury Bond ETF</td>\n",
              "      <td>1.28</td>\n",
              "      <td>Aug 30, 2022</td>\n",
              "      <td>-10.02</td>\n",
              "      <td>Aug 30, 2022</td>\n",
              "      <td>Feb 14, 2012</td>\n",
              "      <td>0.05</td>\n",
              "      <td>0.05</td>\n",
              "      <td>2.255763e+10</td>\n",
              "      <td>2012-02-14</td>\n",
              "      <td>/us/products/239468/ishares-us-treasury-bond-etf</td>\n",
              "    </tr>\n",
              "    <tr>\n",
              "      <th>287</th>\n",
              "      <td>ESGU</td>\n",
              "      <td>iShares ESG Aware MSCI USA ETF</td>\n",
              "      <td>1.33</td>\n",
              "      <td>Jul 31, 2022</td>\n",
              "      <td>-17.79</td>\n",
              "      <td>Jul 31, 2022</td>\n",
              "      <td>Dec 01, 2016</td>\n",
              "      <td>0.15</td>\n",
              "      <td>0.15</td>\n",
              "      <td>2.222551e+10</td>\n",
              "      <td>2016-12-01</td>\n",
              "      <td>/us/products/286007/ishares-esg-aware-msci-usa...</td>\n",
              "    </tr>\n",
              "    <tr>\n",
              "      <th>25</th>\n",
              "      <td>DVY</td>\n",
              "      <td>iShares Select Dividend ETF</td>\n",
              "      <td>2.97</td>\n",
              "      <td>Jul 31, 2022</td>\n",
              "      <td>-0.62</td>\n",
              "      <td>Jul 31, 2022</td>\n",
              "      <td>Nov 03, 2003</td>\n",
              "      <td>0.38</td>\n",
              "      <td>0.38</td>\n",
              "      <td>2.163580e+10</td>\n",
              "      <td>2003-11-03</td>\n",
              "      <td>/us/products/239443/ishares-asiapacific-divide...</td>\n",
              "    </tr>\n",
              "    <tr>\n",
              "      <th>5</th>\n",
              "      <td>IGSB</td>\n",
              "      <td>iShares 1-5 Year Investment Grade Corporate Bo...</td>\n",
              "      <td>1.70</td>\n",
              "      <td>Aug 30, 2022</td>\n",
              "      <td>-5.38</td>\n",
              "      <td>Aug 30, 2022</td>\n",
              "      <td>Jan 05, 2007</td>\n",
              "      <td>0.06</td>\n",
              "      <td>0.06</td>\n",
              "      <td>2.129503e+10</td>\n",
              "      <td>2007-01-05</td>\n",
              "      <td>/us/products/239451/ishares-13-year-credit-bon...</td>\n",
              "    </tr>\n",
              "  </tbody>\n",
              "</table>\n",
              "</div>"
            ],
            "text/plain": [
              "    Ticker                                               Name  \\\n",
              "171    IVV                           iShares Core S&P 500 ETF   \n",
              "219   IEFA                         iShares Core MSCI EAFE ETF   \n",
              "12     AGG               iShares Core U.S. Aggregate Bond ETF   \n",
              "210    IJR                     iShares Core S&P Small-Cap ETF   \n",
              "220   IEMG             iShares Core MSCI Emerging Markets ETF   \n",
              "152    IWF                    iShares Russell 1000 Growth ETF   \n",
              "199    IJH                       iShares Core S&P Mid-Cap ETF   \n",
              "156    IWM                           iShares Russell 2000 ETF   \n",
              "154    IWD                     iShares Russell 1000 Value ETF   \n",
              "95     EFA                              iShares MSCI EAFE ETF   \n",
              "169   ITOT       iShares Core S&P Total U.S. Stock Market ETF   \n",
              "66     LQD  iShares iBoxx $ Investment Grade Corporate Bon...   \n",
              "170    IVW                         iShares S&P 500 Growth ETF   \n",
              "21     TIP                              iShares TIPS Bond ETF   \n",
              "148   USMV                iShares MSCI USA Min Vol Factor ETF   \n",
              "202    MUB                     iShares National Muni Bond ETF   \n",
              "163    IWR                        iShares Russell Mid-Cap ETF   \n",
              "63     IAU                                 iShares Gold Trust   \n",
              "153    IWB                           iShares Russell 1000 ETF   \n",
              "218   IXUS    iShares Core MSCI Total International Stock ETF   \n",
              "100    EEM                  iShares MSCI Emerging Markets ETF   \n",
              "6      SHY                 iShares 1-3 Year Treasury Bond ETF   \n",
              "8      TLT                 iShares 20+ Year Treasury Bond ETF   \n",
              "172    IVE                          iShares S&P 500 Value ETF   \n",
              "243   DGRO                   iShares Core Dividend Growth ETF   \n",
              "10     IEF                iShares 7-10 Year Treasury Bond ETF   \n",
              "22    GOVT                     iShares U.S. Treasury Bond ETF   \n",
              "287   ESGU                     iShares ESG Aware MSCI USA ETF   \n",
              "25     DVY                        iShares Select Dividend ETF   \n",
              "5     IGSB  iShares 1-5 Year Investment Grade Corporate Bo...   \n",
              "\n",
              "    12m Trailing Yield (%)         As of YTD Return (%)       As of.1  \\\n",
              "171                   1.44  Jul 31, 2022         -16.16  Jul 31, 2022   \n",
              "219                   4.39  Jul 31, 2022         -20.37  Jul 31, 2022   \n",
              "12                    2.02  Aug 30, 2022         -10.65  Aug 30, 2022   \n",
              "210                   1.68  Jul 31, 2022         -14.79  Jul 31, 2022   \n",
              "220                   4.02  Jul 31, 2022         -17.67  Jul 31, 2022   \n",
              "152                   0.67  Jul 31, 2022         -23.28  Jul 31, 2022   \n",
              "199                   1.43  Jul 31, 2022         -13.59  Jul 31, 2022   \n",
              "156                   1.20  Jul 31, 2022         -17.20  Jul 31, 2022   \n",
              "154                   1.86  Jul 31, 2022          -9.97  Jul 31, 2022   \n",
              "95                    4.59  Jul 31, 2022         -19.91  Jul 31, 2022   \n",
              "169                   1.45  Jul 31, 2022         -17.17  Jul 31, 2022   \n",
              "66                    2.81  Aug 30, 2022         -16.12  Aug 30, 2022   \n",
              "170                   0.64  Jul 31, 2022         -22.78  Jul 31, 2022   \n",
              "21                    6.89  Aug 30, 2022          -7.56  Aug 30, 2022   \n",
              "148                   1.39  Jul 31, 2022         -11.00  Jul 31, 2022   \n",
              "202                   1.93  Aug 30, 2022          -7.92  Aug 30, 2022   \n",
              "163                   1.32  Jul 31, 2022         -16.62  Jul 31, 2022   \n",
              "63                       -             -          -5.88             -   \n",
              "153                   1.33  Jul 31, 2022         -16.98  Jul 31, 2022   \n",
              "218                   3.91  Jul 31, 2022         -19.03  Jul 31, 2022   \n",
              "100                   2.75  Jul 31, 2022         -18.22  Jul 31, 2022   \n",
              "6                     0.52  Aug 30, 2022          -3.39  Aug 30, 2022   \n",
              "8                     2.08  Aug 30, 2022         -23.61  Aug 30, 2022   \n",
              "172                   2.00  Jul 31, 2022          -8.97  Jul 31, 2022   \n",
              "243                   2.07  Jul 31, 2022         -11.30  Jul 31, 2022   \n",
              "10                    1.34  Aug 30, 2022         -11.58  Aug 30, 2022   \n",
              "22                    1.28  Aug 30, 2022         -10.02  Aug 30, 2022   \n",
              "287                   1.33  Jul 31, 2022         -17.79  Jul 31, 2022   \n",
              "25                    2.97  Jul 31, 2022          -0.62  Jul 31, 2022   \n",
              "5                     1.70  Aug 30, 2022          -5.38  Aug 30, 2022   \n",
              "\n",
              "     Incept. Date  Gross Expense Ratio (%)  Net Expense Ratio (%)  \\\n",
              "171  May 15, 2000                     0.03                   0.03   \n",
              "219  Oct 18, 2012                     0.07                   0.07   \n",
              "12   Sep 22, 2003                     0.04                   0.03   \n",
              "210  May 22, 2000                     0.06                   0.06   \n",
              "220  Oct 18, 2012                     0.09                   0.09   \n",
              "152  May 22, 2000                     0.18                   0.18   \n",
              "199  May 22, 2000                     0.05                   0.05   \n",
              "156  May 22, 2000                     0.19                   0.19   \n",
              "154  May 22, 2000                     0.18                   0.18   \n",
              "95   Aug 14, 2001                     0.32                   0.32   \n",
              "169  Jan 20, 2004                     0.03                   0.03   \n",
              "66   Jul 22, 2002                     0.14                   0.14   \n",
              "170  May 22, 2000                     0.18                   0.18   \n",
              "21   Dec 04, 2003                     0.19                   0.19   \n",
              "148  Oct 18, 2011                     0.15                   0.15   \n",
              "202  Sep 07, 2007                     0.07                   0.07   \n",
              "163  Jul 17, 2001                     0.18                   0.18   \n",
              "63   Jan 21, 2005                     0.25                   0.25   \n",
              "153  May 15, 2000                     0.15                   0.15   \n",
              "218  Oct 18, 2012                     0.07                   0.07   \n",
              "100  Apr 07, 2003                     0.68                   0.68   \n",
              "6    Jul 22, 2002                     0.15                   0.15   \n",
              "8    Jul 22, 2002                     0.15                   0.15   \n",
              "172  May 22, 2000                     0.18                   0.18   \n",
              "243  Jun 10, 2014                     0.08                   0.08   \n",
              "10   Jul 22, 2002                     0.15                   0.15   \n",
              "22   Feb 14, 2012                     0.05                   0.05   \n",
              "287  Dec 01, 2016                     0.15                   0.15   \n",
              "25   Nov 03, 2003                     0.38                   0.38   \n",
              "5    Jan 05, 2007                     0.06                   0.06   \n",
              "\n",
              "     Net Assets (USD)   dt_parsed  \\\n",
              "171      2.959908e+11  2000-05-15   \n",
              "219      8.363668e+10  2012-10-18   \n",
              "12       8.222734e+10  2003-09-22   \n",
              "210      6.572527e+10  2000-05-22   \n",
              "220      6.522709e+10  2012-10-18   \n",
              "152      6.121817e+10  2000-05-22   \n",
              "199      6.099626e+10  2000-05-22   \n",
              "156      5.255350e+10  2000-05-22   \n",
              "154      5.150558e+10  2000-05-22   \n",
              "95       4.379824e+10  2001-08-14   \n",
              "169      4.069285e+10  2004-01-20   \n",
              "66       3.482849e+10  2002-07-22   \n",
              "170      3.007654e+10  2000-05-22   \n",
              "21       2.962042e+10  2003-12-04   \n",
              "148      2.778753e+10  2011-10-18   \n",
              "202      2.758650e+10  2007-09-07   \n",
              "163      2.737319e+10  2001-07-17   \n",
              "63       2.735416e+10  2005-01-21   \n",
              "153      2.722250e+10  2000-05-15   \n",
              "218      2.704331e+10  2012-10-18   \n",
              "100      2.587019e+10  2003-04-07   \n",
              "6        2.550799e+10  2002-07-22   \n",
              "8        2.540827e+10  2002-07-22   \n",
              "172      2.390238e+10  2000-05-22   \n",
              "243      2.308147e+10  2014-06-10   \n",
              "10       2.301723e+10  2002-07-22   \n",
              "22       2.255763e+10  2012-02-14   \n",
              "287      2.222551e+10  2016-12-01   \n",
              "25       2.163580e+10  2003-11-03   \n",
              "5        2.129503e+10  2007-01-05   \n",
              "\n",
              "                                               url_add  \n",
              "171        /us/products/239726/ishares-core-sp-500-etf  \n",
              "219     /us/products/244049/ishares-core-msci-eafe-etf  \n",
              "12   /us/products/239458/ishares-core-total-us-bond...  \n",
              "210   /us/products/239774/ishares-core-sp-smallcap-etf  \n",
              "220  /us/products/244050/ishares-core-msci-emerging...  \n",
              "152  /us/products/239706/ishares-russell-1000-growt...  \n",
              "199     /us/products/239763/ishares-core-sp-midcap-etf  \n",
              "156       /us/products/239710/ishares-russell-2000-etf  \n",
              "154  /us/products/239708/ishares-russell-1000-value...  \n",
              "95           /us/products/239623/ishares-msci-eafe-etf  \n",
              "169  /us/products/239724/ishares-core-sp-total-us-s...  \n",
              "66   /us/products/239566/ishares-iboxx-investment-g...  \n",
              "170      /us/products/239725/ishares-sp-500-growth-etf  \n",
              "21           /us/products/239467/ishares-tips-bond-etf  \n",
              "148  /us/products/239695/ishares-msci-usa-minimum-v...  \n",
              "202  /us/products/239766/ishares-national-amtfree-m...  \n",
              "163     /us/products/239718/ishares-russell-midcap-etf  \n",
              "63         /us/products/239561/ishares-gold-trust-fund  \n",
              "153       /us/products/239707/ishares-russell-1000-etf  \n",
              "218  /us/products/244048/ishares-core-msci-total-in...  \n",
              "100  /us/products/239629/ishares-msci-emerging-mark...  \n",
              "6    /us/products/239452/ishares-13-year-treasury-b...  \n",
              "8    /us/products/239454/ishares-20-year-treasury-b...  \n",
              "172       /us/products/239728/ishares-sp-500-value-etf  \n",
              "243  /us/products/264623/ishares-core-dividend-grow...  \n",
              "10   /us/products/239456/ishares-710-year-treasury-...  \n",
              "22    /us/products/239468/ishares-us-treasury-bond-etf  \n",
              "287  /us/products/286007/ishares-esg-aware-msci-usa...  \n",
              "25   /us/products/239443/ishares-asiapacific-divide...  \n",
              "5    /us/products/239451/ishares-13-year-credit-bon...  "
            ]
          },
          "execution_count": 22,
          "metadata": {},
          "output_type": "execute_result"
        }
      ],
      "source": [
        "etfs_list = etfs_list.sort_values(by=\"Net Assets (USD)\",ascending=False)\n",
        "etfs_list[:30]"
      ]
    },
    {
      "cell_type": "code",
      "execution_count": null,
      "metadata": {
        "id": "VtGhdnnznAI8"
      },
      "outputs": [],
      "source": [
        "from datetime import datetime as dttm"
      ]
    },
    {
      "cell_type": "code",
      "execution_count": null,
      "metadata": {
        "id": "Q1R5kVFEnAI8",
        "outputId": "e621a43b-07c1-4c76-ac09-5c27a5644480"
      },
      "outputs": [
        {
          "data": {
            "text/plain": [
              "2022"
            ]
          },
          "execution_count": 24,
          "metadata": {},
          "output_type": "execute_result"
        }
      ],
      "source": [
        "dttm.now().year"
      ]
    },
    {
      "cell_type": "code",
      "execution_count": null,
      "metadata": {
        "id": "I0nAs0JGnAI9",
        "outputId": "db38eda0-1b6b-4e69-96d3-ea5f6a8fc852"
      },
      "outputs": [
        {
          "ename": "NameError",
          "evalue": "name 'test_is_valid_holding_file' is not defined",
          "output_type": "error",
          "traceback": [
            "\u001b[0;31m---------------------------------------------------------------------------\u001b[0m",
            "\u001b[0;31mNameError\u001b[0m                                 Traceback (most recent call last)",
            "\u001b[0;32m<timed eval>\u001b[0m in \u001b[0;36m<module>\u001b[0;34m\u001b[0m\n",
            "\u001b[0;32m<ipython-input-19-c4a8fe3d84af>\u001b[0m in \u001b[0;36mdownload_holdings_from_2011\u001b[0;34m(ticker, home_dir)\u001b[0m\n\u001b[1;32m     27\u001b[0m                 \u001b[0mflg\u001b[0m \u001b[0;34m=\u001b[0m \u001b[0;32mTrue\u001b[0m\u001b[0;34m\u001b[0m\u001b[0;34m\u001b[0m\u001b[0m\n\u001b[1;32m     28\u001b[0m                 \u001b[0mfrm\u001b[0m \u001b[0;34m=\u001b[0m \u001b[0;36m22\u001b[0m\u001b[0;34m\u001b[0m\u001b[0;34m\u001b[0m\u001b[0m\n\u001b[0;32m---> 29\u001b[0;31m                 \u001b[0;32mwhile\u001b[0m \u001b[0mfrm\u001b[0m \u001b[0;34m<\u001b[0m \u001b[0;36m28\u001b[0m \u001b[0;32mand\u001b[0m \u001b[0mtest_is_valid_holding_file\u001b[0m\u001b[0;34m(\u001b[0m\u001b[0mf_path\u001b[0m\u001b[0;34m)\u001b[0m \u001b[0;34m!=\u001b[0m \u001b[0;34m\"Success\"\u001b[0m\u001b[0;34m:\u001b[0m\u001b[0;34m\u001b[0m\u001b[0;34m\u001b[0m\u001b[0m\n\u001b[0m\u001b[1;32m     30\u001b[0m                     \u001b[0mos\u001b[0m\u001b[0;34m.\u001b[0m\u001b[0msystem\u001b[0m\u001b[0;34m(\u001b[0m\u001b[0;34m\"rm %s\"\u001b[0m\u001b[0;34m%\u001b[0m\u001b[0mf_path\u001b[0m\u001b[0;34m)\u001b[0m\u001b[0;34m\u001b[0m\u001b[0;34m\u001b[0m\u001b[0m\n\u001b[1;32m     31\u001b[0m \u001b[0;34m\u001b[0m\u001b[0m\n",
            "\u001b[0;31mNameError\u001b[0m: name 'test_is_valid_holding_file' is not defined"
          ]
        }
      ],
      "source": [
        "%%time\n",
        "download_holdings_from_2011(\"IEFA\",tar_path)"
      ]
    },
    {
      "cell_type": "code",
      "execution_count": null,
      "metadata": {
        "id": "oJLPez2DnAI9",
        "outputId": "70dcdce8-0fd0-469b-90d8-20af87ed4851"
      },
      "outputs": [
        {
          "ename": "NameError",
          "evalue": "name 'test_is_valid_holding_file' is not defined",
          "output_type": "error",
          "traceback": [
            "\u001b[0;31m---------------------------------------------------------------------------\u001b[0m",
            "\u001b[0;31mNameError\u001b[0m                                 Traceback (most recent call last)",
            "\u001b[0;32m<timed eval>\u001b[0m in \u001b[0;36m<module>\u001b[0;34m\u001b[0m\n",
            "\u001b[0;32m<ipython-input-19-c4a8fe3d84af>\u001b[0m in \u001b[0;36mdownload_holdings_from_2011\u001b[0;34m(ticker, home_dir)\u001b[0m\n\u001b[1;32m     27\u001b[0m                 \u001b[0mflg\u001b[0m \u001b[0;34m=\u001b[0m \u001b[0;32mTrue\u001b[0m\u001b[0;34m\u001b[0m\u001b[0;34m\u001b[0m\u001b[0m\n\u001b[1;32m     28\u001b[0m                 \u001b[0mfrm\u001b[0m \u001b[0;34m=\u001b[0m \u001b[0;36m22\u001b[0m\u001b[0;34m\u001b[0m\u001b[0;34m\u001b[0m\u001b[0m\n\u001b[0;32m---> 29\u001b[0;31m                 \u001b[0;32mwhile\u001b[0m \u001b[0mfrm\u001b[0m \u001b[0;34m<\u001b[0m \u001b[0;36m28\u001b[0m \u001b[0;32mand\u001b[0m \u001b[0mtest_is_valid_holding_file\u001b[0m\u001b[0;34m(\u001b[0m\u001b[0mf_path\u001b[0m\u001b[0;34m)\u001b[0m \u001b[0;34m!=\u001b[0m \u001b[0;34m\"Success\"\u001b[0m\u001b[0;34m:\u001b[0m\u001b[0;34m\u001b[0m\u001b[0;34m\u001b[0m\u001b[0m\n\u001b[0m\u001b[1;32m     30\u001b[0m                     \u001b[0mos\u001b[0m\u001b[0;34m.\u001b[0m\u001b[0msystem\u001b[0m\u001b[0;34m(\u001b[0m\u001b[0;34m\"rm %s\"\u001b[0m\u001b[0;34m%\u001b[0m\u001b[0mf_path\u001b[0m\u001b[0;34m)\u001b[0m\u001b[0;34m\u001b[0m\u001b[0;34m\u001b[0m\u001b[0m\n\u001b[1;32m     31\u001b[0m \u001b[0;34m\u001b[0m\u001b[0m\n",
            "\u001b[0;31mNameError\u001b[0m: name 'test_is_valid_holding_file' is not defined"
          ]
        }
      ],
      "source": [
        "%%time\n",
        "download_holdings_from_2011(\"IJR\",tar_path)"
      ]
    },
    {
      "cell_type": "code",
      "execution_count": null,
      "metadata": {
        "id": "cVrI5KtynAI9"
      },
      "outputs": [],
      "source": [
        "def test_is_valid_holding_file(file_path):\n",
        "    try :\n",
        "        txt = open(file_path,'r').read()\n",
        "    except:\n",
        "        return \"Error opening file\"\n",
        "    try :\n",
        "        df = response2df(txt)\n",
        "        #print(df.shape)\n",
        "        #print(df.head())\n",
        "        basename = os.path.basename(file_path)\n",
        "        #os.path.dirname(os.path.realpath(__file__))\n",
        "        dr = os.path.dirname(os.path.realpath(file_path))\n",
        "        \n",
        "        df.to_csv(os.path.join(dr,basename.replace(\".csv\",\"_f.csv\")))\n",
        "        return \"Success\"\n",
        "    except:\n",
        "        return \"Error transforming to valid csv\""
      ]
    },
    {
      "cell_type": "code",
      "execution_count": null,
      "metadata": {
        "id": "lVIIX7_NnAI-",
        "outputId": "c8d6f8b7-4362-4e83-c2d0-034eaedf6611"
      },
      "outputs": [
        {
          "name": "stdout",
          "output_type": "stream",
          "text": [
            "/Users/itaybendan/iSharesHoldings/IEFA/IEFA_holdings_20150930.csv Success\n",
            "/Users/itaybendan/iSharesHoldings/IEFA/IEFA_holdings_20151231.csv Success\n",
            "/Users/itaybendan/iSharesHoldings/IEFA/IEFA_holdings_20141231.csv Success\n",
            "/Users/itaybendan/iSharesHoldings/IEFA/IEFA_holdings_20180928.csv Success\n",
            "/Users/itaybendan/iSharesHoldings/IEFA/IEFA_holdings_20140930.csv Success\n",
            "/Users/itaybendan/iSharesHoldings/IEFA/IEFA_holdings_20161230.csv Success\n",
            "/Users/itaybendan/iSharesHoldings/IEFA/IEFA_holdings_20200930.csv Success\n",
            "/Users/itaybendan/iSharesHoldings/IEFA/IEFA_holdings_20201231.csv Success\n",
            "/Users/itaybendan/iSharesHoldings/IEFA/IEFA_holdings_20160930.csv Success\n",
            "/Users/itaybendan/iSharesHoldings/IEFA/IEFA_holdings_20211231.csv Success\n",
            "/Users/itaybendan/iSharesHoldings/IEFA/IEFA_holdings_20210930.csv Success\n",
            "/Users/itaybendan/iSharesHoldings/IEFA/IEFA_holdings_20160331.csv Success\n",
            "/Users/itaybendan/iSharesHoldings/IEFA/IEFA_holdings_20140630.csv Success\n",
            "/Users/itaybendan/iSharesHoldings/IEFA/IEFA_holdings_20121231.csv Success\n",
            "/Users/itaybendan/iSharesHoldings/IEFA/IEFA_holdings_20171229.csv Success\n",
            "/Users/itaybendan/iSharesHoldings/IEFA/IEFA_holdings_20180629.csv Success\n",
            "/Users/itaybendan/iSharesHoldings/IEFA/IEFA_holdings_20170929.csv Success\n",
            "/Users/itaybendan/iSharesHoldings/IEFA/IEFA_holdings_20220630.csv Success\n",
            "/Users/itaybendan/iSharesHoldings/IEFA/IEFA_holdings_20200331.csv Success\n",
            "/Users/itaybendan/iSharesHoldings/IEFA/IEFA_holdings_20190628.csv Success\n",
            "/Users/itaybendan/iSharesHoldings/IEFA/IEFA_holdings_20210331.csv Success\n",
            "/Users/itaybendan/iSharesHoldings/IEFA/IEFA_holdings_20130930.csv Success\n",
            "/Users/itaybendan/iSharesHoldings/IEFA/IEFA_holdings_20170331.csv Success\n",
            "/Users/itaybendan/iSharesHoldings/IEFA/IEFA_holdings_20150630.csv Success\n",
            "/Users/itaybendan/iSharesHoldings/IEFA/IEFA_holdings_20131231.csv Success\n",
            "/Users/itaybendan/iSharesHoldings/IEFA/IEFA_holdings_20181231.csv Success\n",
            "/Users/itaybendan/iSharesHoldings/IEFA/IEFA_holdings_20190329.csv Success\n",
            "/Users/itaybendan/iSharesHoldings/IEFA/IEFA_holdings_20210630.csv Success\n",
            "/Users/itaybendan/iSharesHoldings/IEFA/IEFA_holdings_20170630.csv Success\n",
            "/Users/itaybendan/iSharesHoldings/IEFA/IEFA_holdings_20150331.csv Success\n",
            "/Users/itaybendan/iSharesHoldings/IEFA/IEFA_holdings_20160630.csv Success\n",
            "/Users/itaybendan/iSharesHoldings/IEFA/IEFA_holdings_20140331.csv Success\n",
            "/Users/itaybendan/iSharesHoldings/IEFA/IEFA_holdings_20130628.csv Success\n",
            "/Users/itaybendan/iSharesHoldings/IEFA/IEFA_holdings_20190930.csv Success\n",
            "/Users/itaybendan/iSharesHoldings/IEFA/IEFA_holdings_20191231.csv Success\n",
            "/Users/itaybendan/iSharesHoldings/IEFA/IEFA_holdings_20220331.csv Success\n",
            "/Users/itaybendan/iSharesHoldings/IEFA/IEFA_holdings_20200630.csv Success\n"
          ]
        }
      ],
      "source": [
        "import glob\n",
        "ticker = \"IEFA\"\n",
        "test_dir = os.path.join(tar_path,ticker) \n",
        "files = glob.glob(os.path.join(test_dir,\"*\"))\n",
        "for f in files:\n",
        "    print(f,test_is_valid_holding_file(f))"
      ]
    },
    {
      "cell_type": "code",
      "execution_count": null,
      "metadata": {
        "id": "kMMgIiTUnAI-",
        "outputId": "1cc47de4-4fed-4b3b-f7ee-311390396a87"
      },
      "outputs": [
        {
          "name": "stdout",
          "output_type": "stream",
          "text": [
            "Ticker PFF try\n",
            "CPU times: user 6.25 s, sys: 214 ms, total: 6.47 s\n",
            "Wall time: 3min 13s\n"
          ]
        }
      ],
      "source": [
        "%%time\n",
        "from time import sleep\n",
        "for ticker in list(etfs_list[36:37][\"Ticker\"]):\n",
        "    print(\"Ticker %s try\"%ticker)\n",
        "    try:\n",
        "        download_holdings_from_2011(ticker,tar_path)\n",
        "        sleep(5)\n",
        "    except:\n",
        "        print(\"Error in %s\"%ticker)\n"
      ]
    },
    {
      "cell_type": "code",
      "execution_count": null,
      "metadata": {
        "id": "iwhNeLUhnAI-",
        "outputId": "ef88a280-71fb-49f1-ac3b-3ae2eb575ec9"
      },
      "outputs": [
        {
          "data": {
            "text/plain": [
              "'IAU'"
            ]
          },
          "execution_count": 38,
          "metadata": {},
          "output_type": "execute_result"
        }
      ],
      "source": [
        "list(etfs_list[:30][\"Ticker\"])[19]"
      ]
    },
    {
      "cell_type": "code",
      "execution_count": null,
      "metadata": {
        "id": "rxr5WWm7nAI_",
        "outputId": "42f9a61d-c402-430a-c4b3-eed1c039de65"
      },
      "outputs": [
        {
          "data": {
            "text/plain": [
              "['IUSB',\n",
              " 'EMB',\n",
              " 'PFF',\n",
              " 'HYG',\n",
              " 'EFV',\n",
              " 'IWS',\n",
              " 'IWN',\n",
              " 'IWP',\n",
              " 'STIP',\n",
              " 'HDV',\n",
              " 'IUSV',\n",
              " 'IUSG',\n",
              " 'IEI',\n",
              " 'IWV',\n",
              " 'SCZ',\n",
              " 'MTUM']"
            ]
          },
          "execution_count": 47,
          "metadata": {},
          "output_type": "execute_result"
        }
      ],
      "source": [
        "list(etfs_list[34:50][\"Ticker\"])"
      ]
    },
    {
      "cell_type": "code",
      "execution_count": null,
      "metadata": {
        "id": "BAJCDcDTnAI_"
      },
      "outputs": [],
      "source": []
    }
  ],
  "metadata": {
    "kernelspec": {
      "display_name": "Python 3",
      "language": "python",
      "name": "python3"
    },
    "language_info": {
      "codemirror_mode": {
        "name": "ipython",
        "version": 3
      },
      "file_extension": ".py",
      "mimetype": "text/x-python",
      "name": "python",
      "nbconvert_exporter": "python",
      "pygments_lexer": "ipython3",
      "version": "3.7.6"
    },
    "colab": {
      "provenance": [],
      "include_colab_link": true
    }
  },
  "nbformat": 4,
  "nbformat_minor": 0
}